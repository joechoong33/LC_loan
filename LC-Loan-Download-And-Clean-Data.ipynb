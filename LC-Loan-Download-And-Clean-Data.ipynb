{
 "cells": [
  {
   "cell_type": "code",
   "execution_count": 1,
   "metadata": {},
   "outputs": [],
   "source": [
    "import pandas as pd\n",
    "import numpy as np"
   ]
  },
  {
   "cell_type": "code",
   "execution_count": 2,
   "metadata": {},
   "outputs": [
    {
     "name": "stdout",
     "output_type": "stream",
     "text": [
      "--2020-09-23 17:51:48--  https://github.com/joechoong33/LC_loan/zipball/master\n",
      "Resolving github.com (github.com)... 192.30.255.113\n",
      "Connecting to github.com (github.com)|192.30.255.113|:443... connected.\n",
      "HTTP request sent, awaiting response... 302 Found\n",
      "Location: https://codeload.github.com/joechoong33/LC_loan/legacy.zip/master [following]\n",
      "--2020-09-23 17:51:48--  https://codeload.github.com/joechoong33/LC_loan/legacy.zip/master\n",
      "Resolving codeload.github.com (codeload.github.com)... 140.82.113.9\n",
      "Connecting to codeload.github.com (codeload.github.com)|140.82.113.9|:443... connected.\n",
      "HTTP request sent, awaiting response... 200 OK\n",
      "Length: unspecified [application/zip]\n",
      "Saving to: ‘master’\n",
      "\n",
      "master                  [      <=>           ]  30.67M  3.51MB/s    in 8.5s    \n",
      "\n",
      "Last-modified header missing -- time-stamps turned off.\n",
      "2020-09-23 17:51:58 (3.59 MB/s) - ‘master’ saved [32161391]\n",
      "\n",
      "Archive:  master\n",
      "70a9ba35f3f311e10f41e1c531c52ad11de79b43\n",
      " extracting: joechoong33-LC_loan-70a9ba3/DS-02 lendingclub-loan-data-2017q1.zip  \n",
      " extracting: joechoong33-LC_loan-70a9ba3/DS-02-lendingclub-loan-data-2017q1.zip  \n",
      " extracting: joechoong33-LC_loan-70a9ba3/README.md  \n",
      "Archive:  joechoong33-LC_loan-70a9ba3/DS-02-lendingclub-loan-data-2017q1.zip\n",
      "  inflating: lpetrocelli-lendingclub-loan-data-2017-q-1/LCDataDictionary.xlsx  \n",
      "  inflating: lpetrocelli-lendingclub-loan-data-2017-q-1/LoanStats_2017Q1 2.csv  \n"
     ]
    }
   ],
   "source": [
    "#Download from github and extract\n",
    "!wget -N https://github.com/joechoong33/LC_loan/zipball/master\n",
    "!unzip -o master\n",
    "!unzip -o joechoong33-LC_loan-70a9ba3/DS-02-lendingclub-loan-data-2017q1.zip"
   ]
  },
  {
   "cell_type": "code",
   "execution_count": 3,
   "metadata": {},
   "outputs": [
    {
     "name": "stderr",
     "output_type": "stream",
     "text": [
      "/home/ec2-user/anaconda3/envs/python3/lib/python3.6/site-packages/IPython/core/interactiveshell.py:3063: DtypeWarning: Columns (0,112) have mixed types.Specify dtype option on import or set low_memory=False.\n",
      "  interactivity=interactivity, compiler=compiler, result=result)\n"
     ]
    },
    {
     "data": {
      "text/plain": [
       "(96781, 122)"
      ]
     },
     "execution_count": 3,
     "metadata": {},
     "output_type": "execute_result"
    }
   ],
   "source": [
    "df = pd.read_csv('lpetrocelli-lendingclub-loan-data-2017-q-1/LoanStats_2017Q1 2.csv',skiprows = 1)\n",
    "df.shape"
   ]
  },
  {
   "cell_type": "code",
   "execution_count": 4,
   "metadata": {},
   "outputs": [],
   "source": [
    "df_loan = df[:-2]\n",
    "df_loan.tail(2)\n",
    "df['int_rate'] = df['int_rate'].str.replace('%','')\n",
    "df['int_rate'] = pd.to_numeric(df['int_rate'],errors='coerce')"
   ]
  },
  {
   "cell_type": "code",
   "execution_count": 5,
   "metadata": {},
   "outputs": [],
   "source": [
    "# Categorize employment length\n",
    "def emp_to_num(term):\n",
    "    if pd.isna(term):\n",
    "        return None\n",
    "    elif term[2]=='+':\n",
    "        return 10\n",
    "    elif term[0]=='<':\n",
    "        return 0\n",
    "    else:\n",
    "        return int(term[0])\n",
    "\n",
    "df['emp_length_num'] = df['emp_length'].apply(emp_to_num)"
   ]
  },
  {
   "cell_type": "code",
   "execution_count": 6,
   "metadata": {},
   "outputs": [],
   "source": [
    "#Feature engineer - basically lender credit status\n",
    "df.loc[:, 'flag'] = np.where((df.purpose == 'debt_consolidation') | (df.purpose == 'credit_card'),1.0, -1.0)\n",
    "df['install_loan_ratio'] = (df['installment'] / df['loan_amnt']) * 100\n",
    "df['long_emp'] = df['emp_length'].apply(lambda x: 1*(x=='10+ years'))\n",
    "df['short_emp'] = df['emp_length'].apply(lambda x: 1*(x=='1 year' or x=='< 1 year'))\n"
   ]
  },
  {
   "cell_type": "code",
   "execution_count": 7,
   "metadata": {},
   "outputs": [],
   "source": [
    "#Predict for good and bad - map loan status into 0 and 1\n",
    "df['target']=df['loan_status'].map({'Current': 1,'Issued': 1, 'Fully Paid': 1, 'In Grace Period': 0, 'Late (31-120 days)':0, 'Late (16-30 days)': 0})"
   ]
  },
  {
   "cell_type": "code",
   "execution_count": 8,
   "metadata": {},
   "outputs": [
    {
     "data": {
      "text/plain": [
       "1.0    0.994214\n",
       "0.0    0.005786\n",
       "Name: target, dtype: float64"
      ]
     },
     "execution_count": 8,
     "metadata": {},
     "output_type": "execute_result"
    }
   ],
   "source": [
    "# Huge class imbalance\n",
    "df['target'].value_counts(normalize=True)"
   ]
  },
  {
   "cell_type": "code",
   "execution_count": 9,
   "metadata": {},
   "outputs": [
    {
     "data": {
      "text/plain": [
       "<matplotlib.axes._subplots.AxesSubplot at 0x7f48611bad30>"
      ]
     },
     "execution_count": 9,
     "metadata": {},
     "output_type": "execute_result"
    },
    {
     "data": {
      "image/png": "[encoded data removed]",
      "text/plain": [
       "<Figure size 432x288 with 1 Axes>"
      ]
     },
     "metadata": {
      "needs_background": "light"
     },
     "output_type": "display_data"
    }
   ],
   "source": [
    "# Huge class imbalance\n",
    "df['target'].value_counts().plot(kind='bar')"
   ]
  },
  {
   "cell_type": "code",
   "execution_count": 10,
   "metadata": {},
   "outputs": [],
   "source": [
    "#tranform annual income to log\n",
    "df['annual_inc_log'] = df['annual_inc'].apply(np.log)"
   ]
  },
  {
   "cell_type": "code",
   "execution_count": 11,
   "metadata": {},
   "outputs": [],
   "source": [
    "columns = ['loan_amnt', 'term', 'int_rate','flag','install_loan_ratio',\n",
    "       'installment', 'grade', 'emp_length',\n",
    "       'home_ownership', 'annual_inc_log', 'verification_status',\n",
    "       'target', 'purpose',\n",
    "       'addr_state', 'dti', 'delinq_2yrs',\n",
    "       'inq_last_6mths', 'open_acc',\n",
    "       'pub_rec', 'revol_bal', 'revol_util', 'total_acc']\n",
    "df = df[columns]\n",
    "\n",
    "df.dropna(inplace=True)"
   ]
  },
  {
   "cell_type": "code",
   "execution_count": 12,
   "metadata": {},
   "outputs": [],
   "source": [
    "# Map grade to integer\n",
    "df['grade']=df['grade'].map({'A': 1, 'B': 2, 'C': 3, 'D': 4, 'E': 5, 'F': 6, 'G': 7})"
   ]
  },
  {
   "cell_type": "code",
   "execution_count": 13,
   "metadata": {},
   "outputs": [],
   "source": [
    "#Copy dataframe\n",
    "df_dummies = pd.get_dummies(df) "
   ]
  },
  {
   "cell_type": "code",
   "execution_count": 14,
   "metadata": {},
   "outputs": [],
   "source": [
    "drop_columns = df_dummies.columns[(df_dummies.mean()<0.01)]\n",
    "df_dummies.drop(drop_columns, axis=1, inplace=True)"
   ]
  },
  {
   "cell_type": "code",
   "execution_count": 15,
   "metadata": {},
   "outputs": [],
   "source": [
    "df_dummies['verification_status_Verified_sum'] = df_dummies['verification_status_Source Verified']+df_dummies['verification_status_Verified']\n",
    "df_dummies.drop(['verification_status_Source Verified', 'verification_status_Verified'], axis=1, inplace=True)\n",
    "\n",
    "\n",
    "df_dummies = df_dummies.rename(columns={'emp_length_10+ years':'emp_length_10 years','emp_length_< 1 year':'emp_length_less 1 year'})"
   ]
  },
  {
   "cell_type": "code",
   "execution_count": 16,
   "metadata": {},
   "outputs": [
    {
     "data": {
      "text/plain": [
       "(89940, 67)"
      ]
     },
     "execution_count": 16,
     "metadata": {},
     "output_type": "execute_result"
    }
   ],
   "source": [
    "# After cleaning, prepare training data\n",
    "X = df_dummies.drop('target', axis=1)\n",
    "y = df_dummies['target']\n",
    "X.shape"
   ]
  },
  {
   "cell_type": "code",
   "execution_count": 17,
   "metadata": {},
   "outputs": [],
   "source": [
    "#Drop zip code of states\n",
    "drop_list1 = ['addr_state_AL',\n",
    "       'addr_state_AZ', 'addr_state_CA', 'addr_state_CO', 'addr_state_CT',\n",
    "       'addr_state_FL', 'addr_state_GA', 'addr_state_IL', 'addr_state_IN',\n",
    "       'addr_state_LA', 'addr_state_MA', 'addr_state_MD', 'addr_state_MI',\n",
    "       'addr_state_MN', 'addr_state_MO', 'addr_state_NC', 'addr_state_NJ',\n",
    "       'addr_state_NV', 'addr_state_NY', 'addr_state_OH', 'addr_state_OR',\n",
    "       'addr_state_PA', 'addr_state_SC', 'addr_state_TN', 'addr_state_TX',\n",
    "       'addr_state_VA', 'addr_state_WA', 'addr_state_WI']\n",
    "\n",
    "X.drop(drop_list1,axis=1,inplace=True)"
   ]
  },
  {
   "cell_type": "code",
   "execution_count": 18,
   "metadata": {},
   "outputs": [],
   "source": [
    "# Build train and test set > 80:20\n",
    "from sklearn.model_selection import train_test_split\n",
    "X_train, X_test, y_train, y_test = train_test_split(X, y, test_size=0.2,stratify = y,random_state=0) #0 6 = 0.698\n"
   ]
  },
  {
   "cell_type": "code",
   "execution_count": null,
   "metadata": {},
   "outputs": [],
   "source": [
    "#Save train and test data to environment folder\n",
    "#train = pd.concat([X_train,y_train],axis=1)\n",
    "#test = pd.concat([X_test,y_test],axis=1)\n",
    "\n",
    "#train.to_csv('train.csv',index=False,header=False)\n",
    "\n",
    "#test.to_csv('test.csv',index=False,header=False)"
   ]
  }
 ],
 "metadata": {
  "kernelspec": {
   "display_name": "conda_python3",
   "language": "python",
   "name": "conda_python3"
  },
  "language_info": {
   "codemirror_mode": {
    "name": "ipython",
    "version": 3
   },
   "file_extension": ".py",
   "mimetype": "text/x-python",
   "name": "python",
   "nbconvert_exporter": "python",
   "pygments_lexer": "ipython3",
   "version": "3.6.10"
  }
 },
 "nbformat": 4,
 "nbformat_minor": 4
}
